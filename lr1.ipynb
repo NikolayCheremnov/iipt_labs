{
 "cells": [
  {
   "cell_type": "code",
   "execution_count": 1,
   "id": "b736da9d-4cee-4833-981b-080dcba7e8d1",
   "metadata": {},
   "outputs": [],
   "source": [
    "import cv2 as cv\n",
    "import sys"
   ]
  },
  {
   "cell_type": "code",
   "execution_count": 2,
   "id": "48146e3b-7138-4d62-9845-d63a13273b2a",
   "metadata": {},
   "outputs": [],
   "source": [
    "# reading source image\n",
    "img_path = './data/bears.jpg'\n",
    "img = cv.imread(img_path)\n",
    "if img is None:\n",
    "    sys.exit(\"Could not read the image.\")\n",
    "# cv.imshow(\"test\", img)\n",
    "# k = cv.waitKey(0)"
   ]
  },
  {
   "cell_type": "code",
   "execution_count": 3,
   "id": "ab9caa75-139a-48b9-bc1f-5210176a5e66",
   "metadata": {},
   "outputs": [
    {
     "data": {
      "text/plain": [
       "False"
      ]
     },
     "execution_count": 3,
     "metadata": {},
     "output_type": "execute_result"
    }
   ],
   "source": [
    "# bluring\n",
    "kernel_size = (3, 3)\n",
    "img_blur = cv.blur(img, kernel_size)\n",
    "cv.imshow(\"test\", img_blur)\n",
    "k = cv.waitKey(13)\n",
    "cv.imwrite(f'blured_{kernel_size}_{img_path}', img_blur)"
   ]
  },
  {
   "cell_type": "code",
   "execution_count": null,
   "id": "7cf47f3b-315d-4fc2-a7ac-4aa031c56d8b",
   "metadata": {},
   "outputs": [],
   "source": []
  }
 ],
 "metadata": {
  "kernelspec": {
   "display_name": "Python 3 (ipykernel)",
   "language": "python",
   "name": "python3"
  },
  "language_info": {
   "codemirror_mode": {
    "name": "ipython",
    "version": 3
   },
   "file_extension": ".py",
   "mimetype": "text/x-python",
   "name": "python",
   "nbconvert_exporter": "python",
   "pygments_lexer": "ipython3",
   "version": "3.10.0"
  }
 },
 "nbformat": 4,
 "nbformat_minor": 5
}
